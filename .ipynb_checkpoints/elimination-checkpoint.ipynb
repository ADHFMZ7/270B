{
 "cells": [
  {
   "cell_type": "code",
   "execution_count": 1,
   "id": "ba7acee0",
   "metadata": {},
   "outputs": [],
   "source": [
    "from elimination import *\n",
    "from transformations import *"
   ]
  },
  {
   "cell_type": "code",
   "execution_count": 20,
   "id": "4a485074",
   "metadata": {},
   "outputs": [
    {
     "name": "stdout",
     "output_type": "stream",
     "text": [
      "   1   2   3   6\n",
      "   2  -3   2  14\n",
      "   3   1  -1  -2\n"
     ]
    }
   ],
   "source": [
    "A = Matrix([[1, 2, 3, 6], [2, -3, 2, 14], [3, 1, -1, -2]])"
   ]
  },
  {
   "cell_type": "code",
   "execution_count": 21,
   "id": "8e2117c2",
   "metadata": {},
   "outputs": [
    {
     "name": "stdout",
     "output_type": "stream",
     "text": [
      "R1+-2R0\n"
     ]
    }
   ],
   "source": [
    "A.matadd(1, -2, 0)"
   ]
  },
  {
   "cell_type": "code",
   "execution_count": 22,
   "id": "a2201dca",
   "metadata": {},
   "outputs": [
    {
     "name": "stdout",
     "output_type": "stream",
     "text": [
      "   1   2   3   6\n",
      "   0  -7  -4   2\n",
      "   3   1  -1  -2\n"
     ]
    }
   ],
   "source": [
    "A.printmat()"
   ]
  },
  {
   "cell_type": "code",
   "execution_count": 23,
   "id": "ced8e712",
   "metadata": {},
   "outputs": [
    {
     "name": "stdout",
     "output_type": "stream",
     "text": [
      "R2+-3R0\n"
     ]
    }
   ],
   "source": [
    "A.matadd(2, -3, 0)"
   ]
  },
  {
   "cell_type": "code",
   "execution_count": 24,
   "id": "51f568a8",
   "metadata": {},
   "outputs": [
    {
     "name": "stdout",
     "output_type": "stream",
     "text": [
      "   1   2   3   6\n",
      "   0  -7  -4   2\n",
      "   0  -5 -10 -20\n"
     ]
    }
   ],
   "source": [
    "A.printmat()"
   ]
  },
  {
   "cell_type": "markdown",
   "id": "61406f9e",
   "metadata": {},
   "source": []
  },
  {
   "cell_type": "code",
   "execution_count": null,
   "id": "7d70af7e",
   "metadata": {},
   "outputs": [],
   "source": []
  }
 ],
 "metadata": {
  "kernelspec": {
   "display_name": "Python 3",
   "language": "python",
   "name": "python3"
  },
  "language_info": {
   "codemirror_mode": {
    "name": "ipython",
    "version": 3
   },
   "file_extension": ".py",
   "mimetype": "text/x-python",
   "name": "python",
   "nbconvert_exporter": "python",
   "pygments_lexer": "ipython3",
   "version": "3.8.8"
  }
 },
 "nbformat": 4,
 "nbformat_minor": 5
}
