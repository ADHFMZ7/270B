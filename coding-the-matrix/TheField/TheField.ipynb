{
 "cells": [
  {
   "cell_type": "markdown",
   "id": "96e2b8a8",
   "metadata": {},
   "source": [
    "# The Field\n",
    "Chapter 1 of Coding the Matrix"
   ]
  },
  {
   "cell_type": "code",
   "execution_count": 42,
   "id": "408e0dc0",
   "metadata": {},
   "outputs": [],
   "source": [
    "from plotting import plot\n",
    "from image import file2image\n",
    "from math import e, pi"
   ]
  },
  {
   "cell_type": "markdown",
   "id": "3a0362fd",
   "metadata": {},
   "source": [
    "Imports necessary modules\n",
    "\n",
    "'plotting' to display data\n",
    "\n",
    "'image' to convert png to python list"
   ]
  },
  {
   "cell_type": "code",
   "execution_count": 43,
   "id": "0626e75f",
   "metadata": {},
   "outputs": [],
   "source": [
    "data = file2image(\"img01.png\")"
   ]
  },
  {
   "cell_type": "markdown",
   "id": "ea03c45f",
   "metadata": {},
   "source": [
    "Converts img01.png file to python list and stores it in data variable"
   ]
  },
  {
   "cell_type": "code",
   "execution_count": 44,
   "id": "fc41ace8",
   "metadata": {},
   "outputs": [],
   "source": [
    "width = len(data[0])\n",
    "height = len(data)\n",
    "pts = [x+y*-1j+height*1j for x in range(0, width-1) for y in range(0, height-1) if data[y][x][0] < 120]"
   ]
  },
  {
   "cell_type": "code",
   "execution_count": 45,
   "id": "521f6794",
   "metadata": {},
   "outputs": [],
   "source": [
    "plot(pts, 250)"
   ]
  },
  {
   "cell_type": "code",
   "execution_count": 46,
   "id": "ac543c29",
   "metadata": {},
   "outputs": [],
   "source": [
    "n = 20\n",
    "w = e**(2*pi*(1j/n))\n",
    "pts = [w**i for i in range(0, n)]"
   ]
  },
  {
   "cell_type": "markdown",
   "id": "426e68c3",
   "metadata": {},
   "source": [
    "$e^{2\\pi \\frac{i}{n}}$"
   ]
  },
  {
   "cell_type": "code",
   "execution_count": 47,
   "id": "f8600b05",
   "metadata": {},
   "outputs": [],
   "source": [
    "plot(pts)"
   ]
  },
  {
   "cell_type": "code",
   "execution_count": null,
   "id": "4c7efe7e",
   "metadata": {},
   "outputs": [],
   "source": []
  }
 ],
 "metadata": {
  "kernelspec": {
   "display_name": "Python 3",
   "language": "python",
   "name": "python3"
  },
  "language_info": {
   "codemirror_mode": {
    "name": "ipython",
    "version": 3
   },
   "file_extension": ".py",
   "mimetype": "text/x-python",
   "name": "python",
   "nbconvert_exporter": "python",
   "pygments_lexer": "ipython3",
   "version": "3.8.8"
  }
 },
 "nbformat": 4,
 "nbformat_minor": 5
}
